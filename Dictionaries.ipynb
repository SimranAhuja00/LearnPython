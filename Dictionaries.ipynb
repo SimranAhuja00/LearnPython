{
  "nbformat": 4,
  "nbformat_minor": 0,
  "metadata": {
    "colab": {
      "provenance": [],
      "authorship_tag": "ABX9TyPpwcYvqaPN2BxeaKE1QdhV"
    },
    "kernelspec": {
      "name": "python3",
      "display_name": "Python 3"
    },
    "language_info": {
      "name": "python"
    }
  },
  "cells": [
    {
      "cell_type": "markdown",
      "source": [
        "**Dictionaries** are unordered mappings for storing objects. Lists store objects in an ordered sequence, dictionaries use a key-value pairing instead. The key-value pair allows us to quickly grab objects without needing to know the index position."
      ],
      "metadata": {
        "id": "qbtBhDpr7mg5"
      }
    },
    {
      "cell_type": "markdown",
      "source": [
        "{'key1' : 'value1' , 'key2' : 'value2'}"
      ],
      "metadata": {
        "id": "GS9fECrB8B0u"
      }
    },
    {
      "cell_type": "code",
      "source": [
        "my_dict = {'k1' : 'value1', 'k2' : 'value2'}"
      ],
      "metadata": {
        "id": "GmGNPqYb8IhU"
      },
      "execution_count": 1,
      "outputs": []
    },
    {
      "cell_type": "code",
      "source": [
        "my_dict['k1']"
      ],
      "metadata": {
        "colab": {
          "base_uri": "https://localhost:8080/",
          "height": 35
        },
        "id": "304cyZPx8fYA",
        "outputId": "038ac8f0-3b15-4ae6-eace-da9027ec79b2"
      },
      "execution_count": 2,
      "outputs": [
        {
          "output_type": "execute_result",
          "data": {
            "text/plain": [
              "'value1'"
            ],
            "application/vnd.google.colaboratory.intrinsic+json": {
              "type": "string"
            }
          },
          "metadata": {},
          "execution_count": 2
        }
      ]
    },
    {
      "cell_type": "code",
      "source": [
        "prices_lookup = {'bread' : 50, 'icecream' : 100, 'cheese' : 150}"
      ],
      "metadata": {
        "id": "1W04braq8mJf"
      },
      "execution_count": 3,
      "outputs": []
    },
    {
      "cell_type": "code",
      "source": [
        "prices_lookup['bread']"
      ],
      "metadata": {
        "colab": {
          "base_uri": "https://localhost:8080/"
        },
        "id": "GUzluYAq8y1G",
        "outputId": "ae60420c-9dd8-4ce6-c013-64b72c2364ff"
      },
      "execution_count": 4,
      "outputs": [
        {
          "output_type": "execute_result",
          "data": {
            "text/plain": [
              "50"
            ]
          },
          "metadata": {},
          "execution_count": 4
        }
      ]
    },
    {
      "cell_type": "code",
      "source": [
        "d = {'key1' : ['a','b','c']}"
      ],
      "metadata": {
        "id": "L62C_Y8F81NM"
      },
      "execution_count": 5,
      "outputs": []
    },
    {
      "cell_type": "code",
      "source": [
        "d"
      ],
      "metadata": {
        "colab": {
          "base_uri": "https://localhost:8080/"
        },
        "id": "vmSH3wb59IzD",
        "outputId": "0e025159-cbf5-44f0-9f6a-34007cf81070"
      },
      "execution_count": 6,
      "outputs": [
        {
          "output_type": "execute_result",
          "data": {
            "text/plain": [
              "{'key1': ['a', 'b', 'c']}"
            ]
          },
          "metadata": {},
          "execution_count": 6
        }
      ]
    },
    {
      "cell_type": "code",
      "source": [
        "d['key1']"
      ],
      "metadata": {
        "colab": {
          "base_uri": "https://localhost:8080/"
        },
        "id": "ln-4JXdN9J8t",
        "outputId": "28466762-5482-491a-f8dc-aa7d0b9b9119"
      },
      "execution_count": 7,
      "outputs": [
        {
          "output_type": "execute_result",
          "data": {
            "text/plain": [
              "['a', 'b', 'c']"
            ]
          },
          "metadata": {},
          "execution_count": 7
        }
      ]
    },
    {
      "cell_type": "code",
      "source": [
        "d['key1'][0]"
      ],
      "metadata": {
        "colab": {
          "base_uri": "https://localhost:8080/",
          "height": 35
        },
        "id": "G4oEgYmT9NzT",
        "outputId": "ce528756-362d-422a-a2ca-d14ab08d5a3d"
      },
      "execution_count": 8,
      "outputs": [
        {
          "output_type": "execute_result",
          "data": {
            "text/plain": [
              "'a'"
            ],
            "application/vnd.google.colaboratory.intrinsic+json": {
              "type": "string"
            }
          },
          "metadata": {},
          "execution_count": 8
        }
      ]
    },
    {
      "cell_type": "code",
      "source": [
        "d['key1'][1]"
      ],
      "metadata": {
        "colab": {
          "base_uri": "https://localhost:8080/",
          "height": 35
        },
        "id": "p_3p3sQf9QKI",
        "outputId": "b4440c56-c1ea-40b7-d94b-181ebe31a973"
      },
      "execution_count": 9,
      "outputs": [
        {
          "output_type": "execute_result",
          "data": {
            "text/plain": [
              "'b'"
            ],
            "application/vnd.google.colaboratory.intrinsic+json": {
              "type": "string"
            }
          },
          "metadata": {},
          "execution_count": 9
        }
      ]
    },
    {
      "cell_type": "code",
      "source": [
        "d['key1'][2].upper()"
      ],
      "metadata": {
        "colab": {
          "base_uri": "https://localhost:8080/",
          "height": 35
        },
        "id": "BI8XxEzr9Tyk",
        "outputId": "04b5df65-929b-435b-cd62-ab39bcfa041a"
      },
      "execution_count": 10,
      "outputs": [
        {
          "output_type": "execute_result",
          "data": {
            "text/plain": [
              "'C'"
            ],
            "application/vnd.google.colaboratory.intrinsic+json": {
              "type": "string"
            }
          },
          "metadata": {},
          "execution_count": 10
        }
      ]
    },
    {
      "cell_type": "code",
      "source": [
        "d = {'k1' : 100, 'k2' : 200}"
      ],
      "metadata": {
        "id": "CswiWJ2a9ZRf"
      },
      "execution_count": 11,
      "outputs": []
    },
    {
      "cell_type": "markdown",
      "source": [
        "Add an item to the dictionary"
      ],
      "metadata": {
        "id": "x5k-nCpS9jN4"
      }
    },
    {
      "cell_type": "code",
      "source": [
        "d['k3'] = 300"
      ],
      "metadata": {
        "id": "Vbb_DDp39leE"
      },
      "execution_count": 12,
      "outputs": []
    },
    {
      "cell_type": "code",
      "source": [
        "d"
      ],
      "metadata": {
        "colab": {
          "base_uri": "https://localhost:8080/"
        },
        "id": "Yw5oqkB69qKY",
        "outputId": "8e5911e0-9a40-4b77-c8ce-799b7e402358"
      },
      "execution_count": 13,
      "outputs": [
        {
          "output_type": "execute_result",
          "data": {
            "text/plain": [
              "{'k1': 100, 'k2': 200, 'k3': 300}"
            ]
          },
          "metadata": {},
          "execution_count": 13
        }
      ]
    },
    {
      "cell_type": "markdown",
      "source": [
        "We can also over-write an existing key-value pair"
      ],
      "metadata": {
        "id": "n503w6Kp9tD2"
      }
    },
    {
      "cell_type": "code",
      "source": [
        "d['k1'] = 'Shanaya'"
      ],
      "metadata": {
        "id": "bj0Qvpq99xtA"
      },
      "execution_count": 14,
      "outputs": []
    },
    {
      "cell_type": "code",
      "source": [
        "d"
      ],
      "metadata": {
        "colab": {
          "base_uri": "https://localhost:8080/"
        },
        "id": "ggIis2Pe90ua",
        "outputId": "ced5c4f8-0d4b-4efe-d2cd-077eaeb961f9"
      },
      "execution_count": 15,
      "outputs": [
        {
          "output_type": "execute_result",
          "data": {
            "text/plain": [
              "{'k1': 'Shanaya', 'k2': 200, 'k3': 300}"
            ]
          },
          "metadata": {},
          "execution_count": 15
        }
      ]
    },
    {
      "cell_type": "code",
      "source": [
        "d.keys() #displays all the keys present in the dictionary"
      ],
      "metadata": {
        "colab": {
          "base_uri": "https://localhost:8080/"
        },
        "id": "Q911z3sl91Pt",
        "outputId": "1769e30e-7d6a-4267-d983-325965a55410"
      },
      "execution_count": 17,
      "outputs": [
        {
          "output_type": "execute_result",
          "data": {
            "text/plain": [
              "dict_keys(['k1', 'k2', 'k3'])"
            ]
          },
          "metadata": {},
          "execution_count": 17
        }
      ]
    },
    {
      "cell_type": "code",
      "source": [
        "d.values() #displays all the values present in the dictionary"
      ],
      "metadata": {
        "colab": {
          "base_uri": "https://localhost:8080/"
        },
        "id": "Vy0OIe6i96hj",
        "outputId": "d443857e-2be0-4c85-afec-d1efea7a83b9"
      },
      "execution_count": 18,
      "outputs": [
        {
          "output_type": "execute_result",
          "data": {
            "text/plain": [
              "dict_values(['Shanaya', 200, 300])"
            ]
          },
          "metadata": {},
          "execution_count": 18
        }
      ]
    },
    {
      "cell_type": "code",
      "source": [
        "d.items() #prints the key-value pairings"
      ],
      "metadata": {
        "colab": {
          "base_uri": "https://localhost:8080/"
        },
        "id": "j7Dxrw6k-CFg",
        "outputId": "3312ca86-7b10-43ee-aeaa-b2af4ee48c5c"
      },
      "execution_count": 19,
      "outputs": [
        {
          "output_type": "execute_result",
          "data": {
            "text/plain": [
              "dict_items([('k1', 'Shanaya'), ('k2', 200), ('k3', 300)])"
            ]
          },
          "metadata": {},
          "execution_count": 19
        }
      ]
    }
  ]
}