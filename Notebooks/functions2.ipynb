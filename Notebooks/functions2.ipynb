{
  "nbformat": 4,
  "nbformat_minor": 0,
  "metadata": {
    "colab": {
      "provenance": []
    },
    "kernelspec": {
      "name": "python3",
      "display_name": "Python 3"
    },
    "language_info": {
      "name": "python"
    }
  },
  "cells": [
    {
      "cell_type": "markdown",
      "source": [
        "## Function that can shuffle a list and return it"
      ],
      "metadata": {
        "id": "jWj9Ltsh5XP-"
      }
    },
    {
      "cell_type": "code",
      "source": [
        "from random import shuffle"
      ],
      "metadata": {
        "id": "7B4XgGzw793c"
      },
      "execution_count": 1,
      "outputs": []
    },
    {
      "cell_type": "code",
      "source": [
        "def shuffle_list(mylist):\n",
        "  shuffle(mylist)\n",
        "  return mylist"
      ],
      "metadata": {
        "id": "QsKyZafl8CTc"
      },
      "execution_count": 2,
      "outputs": []
    },
    {
      "cell_type": "code",
      "source": [
        "mylist = [' ','O',' ']"
      ],
      "metadata": {
        "id": "RBhw-mMW5SZI"
      },
      "execution_count": 3,
      "outputs": []
    },
    {
      "cell_type": "code",
      "source": [
        "shuffle(mylist)"
      ],
      "metadata": {
        "id": "YWhN6fPo6ALt"
      },
      "execution_count": 4,
      "outputs": []
    },
    {
      "cell_type": "code",
      "source": [
        "def player_guess():\n",
        "  guess = ''\n",
        "\n",
        "  while guess not in ['0','1','2']:\n",
        "    guess = input(\"Pick a number : 0,1 or 2 \")\n",
        "  return int(guess)"
      ],
      "metadata": {
        "id": "OQsxuBsW5ge4"
      },
      "execution_count": 5,
      "outputs": []
    },
    {
      "cell_type": "code",
      "source": [
        "player_guess()"
      ],
      "metadata": {
        "colab": {
          "base_uri": "https://localhost:8080/"
        },
        "id": "rQ6zvxMK6C_c",
        "outputId": "0c8765e2-6b2e-409c-c0e4-fab12d4269bb"
      },
      "execution_count": 6,
      "outputs": [
        {
          "name": "stdout",
          "output_type": "stream",
          "text": [
            "Pick a number : 0,1 or 2 3\n",
            "Pick a number : 0,1 or 2 1\n"
          ]
        },
        {
          "output_type": "execute_result",
          "data": {
            "text/plain": [
              "1"
            ]
          },
          "metadata": {},
          "execution_count": 6
        }
      ]
    },
    {
      "cell_type": "code",
      "source": [
        "myindex = player_guess()"
      ],
      "metadata": {
        "colab": {
          "base_uri": "https://localhost:8080/"
        },
        "id": "6LrmK7DE6ITa",
        "outputId": "27a24ff5-485d-4b0d-f749-6a3fe6170485"
      },
      "execution_count": 7,
      "outputs": [
        {
          "name": "stdout",
          "output_type": "stream",
          "text": [
            "Pick a number : 0,1 or 2 2\n"
          ]
        }
      ]
    },
    {
      "cell_type": "code",
      "source": [
        "def check_guess(mylist,guess):\n",
        "  if mylist[guess] == 'O':\n",
        "    print(\"Correct!\")\n",
        "  else:\n",
        "    print(\"Wrong guess!\")\n",
        "    print(mylist)"
      ],
      "metadata": {
        "id": "raL4_GgC6Vho"
      },
      "execution_count": 8,
      "outputs": []
    },
    {
      "cell_type": "code",
      "source": [
        "#INITIAL LIST\n",
        "mylist = [' ','O',' ']\n",
        "#SHUFFLE LIST\n",
        "mixed_up_list = shuffle_list(mylist)\n",
        "#USER GUESS\n",
        "guess = player_guess()\n",
        "#CHECK GUESS\n",
        "check_guess(mixed_up_list, guess)"
      ],
      "metadata": {
        "colab": {
          "base_uri": "https://localhost:8080/"
        },
        "id": "jHpxI7SR6rM9",
        "outputId": "31e3f86e-b956-46c1-e4f7-42ce6990bc1e"
      },
      "execution_count": 9,
      "outputs": [
        {
          "output_type": "stream",
          "name": "stdout",
          "text": [
            "Pick a number : 0,1 or 2 1\n",
            "Wrong guess!\n",
            "[' ', ' ', 'O']\n"
          ]
        }
      ]
    }
  ]
}