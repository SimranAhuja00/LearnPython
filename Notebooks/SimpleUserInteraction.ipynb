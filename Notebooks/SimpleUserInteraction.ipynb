{
  "nbformat": 4,
  "nbformat_minor": 0,
  "metadata": {
    "colab": {
      "provenance": []
    },
    "kernelspec": {
      "name": "python3",
      "display_name": "Python 3"
    },
    "language_info": {
      "name": "python"
    }
  },
  "cells": [
    {
      "cell_type": "code",
      "execution_count": 1,
      "metadata": {
        "id": "wZu6tMTf81-J"
      },
      "outputs": [],
      "source": [
        "game_list =[0,1,2]"
      ]
    },
    {
      "cell_type": "code",
      "source": [
        "def display_game(game_list):\n",
        "  print(\"Here is the current list: \")\n",
        "  print(game_list)\n",
        "  "
      ],
      "metadata": {
        "id": "gJgn9T8N9XUt"
      },
      "execution_count": 2,
      "outputs": []
    },
    {
      "cell_type": "code",
      "source": [
        "display_game(game_list)"
      ],
      "metadata": {
        "colab": {
          "base_uri": "https://localhost:8080/"
        },
        "id": "6jwAU4TE9gQk",
        "outputId": "c274b076-d66f-40ee-9af6-2b3ac6c052ce"
      },
      "execution_count": 3,
      "outputs": [
        {
          "output_type": "stream",
          "name": "stdout",
          "text": [
            "Here is the current list: \n",
            "[0, 1, 2]\n"
          ]
        }
      ]
    },
    {
      "cell_type": "code",
      "source": [
        "def position_choice():\n",
        "  choice = 'wrong'\n",
        "\n",
        "  while choice not in ['0','1','2']:\n",
        "    choice = input(\"Pick a position (0,1,2): \")\n",
        "    if choice not in ['0','1','2']:\n",
        "      print(\"Sorry! Invalid choice!\")\n",
        "  return int(choice)"
      ],
      "metadata": {
        "id": "WuNbvQOM9iuL"
      },
      "execution_count": 4,
      "outputs": []
    },
    {
      "cell_type": "code",
      "source": [
        "position_choice()"
      ],
      "metadata": {
        "colab": {
          "base_uri": "https://localhost:8080/"
        },
        "id": "Q6Bw2_X1-Bwu",
        "outputId": "7cf4dac3-fb4e-4933-db6c-0feb03f293df"
      },
      "execution_count": 5,
      "outputs": [
        {
          "name": "stdout",
          "output_type": "stream",
          "text": [
            "Pick a position (0,1,2): two\n",
            "Sorry! Invalid choice!\n",
            "Pick a position (0,1,2): 1\n"
          ]
        },
        {
          "output_type": "execute_result",
          "data": {
            "text/plain": [
              "1"
            ]
          },
          "metadata": {},
          "execution_count": 5
        }
      ]
    },
    {
      "cell_type": "code",
      "source": [
        "def replacement_choice(game_list, position):\n",
        "  user_placement = input(\"Type a string to place at position: \")\n",
        "  game_list[position] = user_placement\n",
        "  return game_list"
      ],
      "metadata": {
        "id": "ncrhU43s-DSI"
      },
      "execution_count": 6,
      "outputs": []
    },
    {
      "cell_type": "code",
      "source": [
        "replacement_choice(game_list,1)"
      ],
      "metadata": {
        "colab": {
          "base_uri": "https://localhost:8080/"
        },
        "id": "txAbdQ-8-cvA",
        "outputId": "6b4b5fb9-3585-4770-ea9d-d360af40b153"
      },
      "execution_count": 7,
      "outputs": [
        {
          "name": "stdout",
          "output_type": "stream",
          "text": [
            "Type a string to place at position: test\n"
          ]
        },
        {
          "output_type": "execute_result",
          "data": {
            "text/plain": [
              "[0, 'test', 2]"
            ]
          },
          "metadata": {},
          "execution_count": 7
        }
      ]
    },
    {
      "cell_type": "code",
      "source": [
        "def gameon_choice():\n",
        "  choice = 'wrong'\n",
        "\n",
        "  while choice not in ['Y','N']:\n",
        "    choice = input(\"Keep Playing? (Y or N) \")\n",
        "    if choice not in ['Y','N']:\n",
        "      print(\"Sorry, I do not understand, please choose Y or N\")\n",
        "  if choice == 'Y':\n",
        "    return True\n",
        "  else:\n",
        "    return False"
      ],
      "metadata": {
        "id": "jkrFRqgj-gBA"
      },
      "execution_count": 9,
      "outputs": []
    },
    {
      "cell_type": "code",
      "source": [
        "gameon_choice()"
      ],
      "metadata": {
        "colab": {
          "base_uri": "https://localhost:8080/"
        },
        "id": "kAj9CejP_Gj5",
        "outputId": "7d2e2f0f-4f3c-4f3d-d479-0030effc5497"
      },
      "execution_count": 10,
      "outputs": [
        {
          "name": "stdout",
          "output_type": "stream",
          "text": [
            "Keep Playing? (Y or N) haha\n",
            "Sorry, I do not understand, please choose Y or N\n",
            "Keep Playing? (Y or N) N\n"
          ]
        },
        {
          "output_type": "execute_result",
          "data": {
            "text/plain": [
              "False"
            ]
          },
          "metadata": {},
          "execution_count": 10
        }
      ]
    },
    {
      "cell_type": "code",
      "source": [
        "game_on = True\n",
        "game_list = [0,1,2]\n",
        "while game_on:\n",
        "  display_game(game_list)\n",
        "  position = position_choice()\n",
        "  game_list = replacement_choice(game_list,position)\n",
        "  display_game(game_list)\n",
        "  game_on = gameon_choice()"
      ],
      "metadata": {
        "colab": {
          "base_uri": "https://localhost:8080/"
        },
        "id": "HYsfUQgy_M-d",
        "outputId": "f871a2d6-6f27-4deb-90b6-94e2a80b6b57"
      },
      "execution_count": 11,
      "outputs": [
        {
          "name": "stdout",
          "output_type": "stream",
          "text": [
            "Here is the current list: \n",
            "[0, 1, 2]\n",
            "Pick a position (0,1,2): 1\n",
            "Type a string to place at position: hello\n",
            "Here is the current list: \n",
            "[0, 'hello', 2]\n",
            "Keep Playing? (Y or N) Y\n",
            "Here is the current list: \n",
            "[0, 'hello', 2]\n",
            "Pick a position (0,1,2): 2\n",
            "Type a string to place at position: simran\n",
            "Here is the current list: \n",
            "[0, 'hello', 'simran']\n",
            "Keep Playing? (Y or N) N\n"
          ]
        }
      ]
    }
  ]
}