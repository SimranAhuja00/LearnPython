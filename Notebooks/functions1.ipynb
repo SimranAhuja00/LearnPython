{
  "nbformat": 4,
  "nbformat_minor": 0,
  "metadata": {
    "colab": {
      "provenance": []
    },
    "kernelspec": {
      "name": "python3",
      "display_name": "Python 3"
    },
    "language_info": {
      "name": "python"
    }
  },
  "cells": [
    {
      "cell_type": "markdown",
      "source": [
        "# Functions in python"
      ],
      "metadata": {
        "id": "RwxMwBvXIVNh"
      }
    },
    {
      "cell_type": "code",
      "source": [
        "def add(a,b):\n",
        "  '''hey this is a function to add''' #Docstring explains the function\n",
        "  return a+b\n",
        "x = add(4,5)\n",
        "print(x)"
      ],
      "metadata": {
        "colab": {
          "base_uri": "https://localhost:8080/"
        },
        "id": "-i_3-xL1P4aC",
        "outputId": "ea864e72-60d8-4853-b3bc-e1be9e58b0cd"
      },
      "execution_count": 1,
      "outputs": [
        {
          "output_type": "stream",
          "name": "stdout",
          "text": [
            "9\n"
          ]
        }
      ]
    },
    {
      "cell_type": "code",
      "source": [
        "def say_hello(name):\n",
        "  print(f'Hello {name}!')"
      ],
      "metadata": {
        "id": "1jmpKa1bQl0A"
      },
      "execution_count": 2,
      "outputs": []
    },
    {
      "cell_type": "code",
      "source": [
        "say_hello('Simran')"
      ],
      "metadata": {
        "colab": {
          "base_uri": "https://localhost:8080/"
        },
        "id": "sISaqR-RQ2z-",
        "outputId": "863ec7cb-4f55-4a87-f6c1-32e8c0fb03bb"
      },
      "execution_count": 3,
      "outputs": [
        {
          "output_type": "stream",
          "name": "stdout",
          "text": [
            "Hello Simran!\n"
          ]
        }
      ]
    },
    {
      "cell_type": "code",
      "source": [
        "def add_num(num1,num2):\n",
        "  return num1+num2"
      ],
      "metadata": {
        "id": "RX5R4vkSQ401"
      },
      "execution_count": 4,
      "outputs": []
    },
    {
      "cell_type": "code",
      "source": [
        "result = add_num(10,20)"
      ],
      "metadata": {
        "id": "5MTHu-kTRQaR"
      },
      "execution_count": 5,
      "outputs": []
    },
    {
      "cell_type": "code",
      "source": [
        "result"
      ],
      "metadata": {
        "colab": {
          "base_uri": "https://localhost:8080/"
        },
        "id": "r2MNDu0iRTiC",
        "outputId": "6810a245-2919-468f-f1b9-cc7c6c60b51c"
      },
      "execution_count": 6,
      "outputs": [
        {
          "output_type": "execute_result",
          "data": {
            "text/plain": [
              "30"
            ]
          },
          "metadata": {},
          "execution_count": 6
        }
      ]
    },
    {
      "cell_type": "code",
      "source": [
        "result = add_num('10','20')\n",
        "result"
      ],
      "metadata": {
        "colab": {
          "base_uri": "https://localhost:8080/",
          "height": 35
        },
        "id": "9a7UyyWkRUtO",
        "outputId": "4661acb5-f77b-4275-85ac-4cddf97e5a6a"
      },
      "execution_count": 7,
      "outputs": [
        {
          "output_type": "execute_result",
          "data": {
            "text/plain": [
              "'1020'"
            ],
            "application/vnd.google.colaboratory.intrinsic+json": {
              "type": "string"
            }
          },
          "metadata": {},
          "execution_count": 7
        }
      ]
    },
    {
      "cell_type": "markdown",
      "source": [
        "Even-check function"
      ],
      "metadata": {
        "id": "CYhSbPRnSOrv"
      }
    },
    {
      "cell_type": "code",
      "source": [
        "def even_check(num):\n",
        "  result = num % 2 == 0\n",
        "  return result"
      ],
      "metadata": {
        "id": "QiMtJBSHSQGt"
      },
      "execution_count": 8,
      "outputs": []
    },
    {
      "cell_type": "code",
      "source": [
        "even_check(20)"
      ],
      "metadata": {
        "colab": {
          "base_uri": "https://localhost:8080/"
        },
        "id": "KqG28P_lSXxB",
        "outputId": "15bbcf8d-d704-455d-f659-8d9f4556893c"
      },
      "execution_count": 9,
      "outputs": [
        {
          "output_type": "execute_result",
          "data": {
            "text/plain": [
              "True"
            ]
          },
          "metadata": {},
          "execution_count": 9
        }
      ]
    },
    {
      "cell_type": "code",
      "source": [
        "even_check(21)"
      ],
      "metadata": {
        "colab": {
          "base_uri": "https://localhost:8080/"
        },
        "id": "MyvtR-L_SY-C",
        "outputId": "ca492e08-a846-4e7f-8359-fbfe7a574d07"
      },
      "execution_count": 10,
      "outputs": [
        {
          "output_type": "execute_result",
          "data": {
            "text/plain": [
              "False"
            ]
          },
          "metadata": {},
          "execution_count": 10
        }
      ]
    },
    {
      "cell_type": "markdown",
      "source": [
        "# Tuple Unpacking"
      ],
      "metadata": {
        "id": "9tnasovMTiV3"
      }
    },
    {
      "cell_type": "code",
      "source": [
        "stock_prices = [('APPLE',200),(\"GOOGLE\", 400), (\"MICROSOFT\",100)]"
      ],
      "metadata": {
        "id": "2VDrk_I9ShDA"
      },
      "execution_count": 11,
      "outputs": []
    },
    {
      "cell_type": "code",
      "source": [
        "for item in stock_prices:\n",
        "  print(item)"
      ],
      "metadata": {
        "colab": {
          "base_uri": "https://localhost:8080/"
        },
        "id": "0M_BLub0TyVN",
        "outputId": "c57d3cac-2e6d-433f-c337-79c1cfc2de95"
      },
      "execution_count": 12,
      "outputs": [
        {
          "output_type": "stream",
          "name": "stdout",
          "text": [
            "('APPLE', 200)\n",
            "('GOOGLE', 400)\n",
            "('MICROSOFT', 100)\n"
          ]
        }
      ]
    },
    {
      "cell_type": "code",
      "source": [
        "for ticker,price in stock_prices:\n",
        "  print(ticker)"
      ],
      "metadata": {
        "colab": {
          "base_uri": "https://localhost:8080/"
        },
        "id": "LIKFi6WRT2ZW",
        "outputId": "c3b0fdee-5e1b-4d10-865d-0b0ee9d62df9"
      },
      "execution_count": 13,
      "outputs": [
        {
          "output_type": "stream",
          "name": "stdout",
          "text": [
            "APPLE\n",
            "GOOGLE\n",
            "MICROSOFT\n"
          ]
        }
      ]
    },
    {
      "cell_type": "code",
      "source": [
        "for ticker,price in stock_prices:\n",
        "  print(price + (0.1 * price))"
      ],
      "metadata": {
        "colab": {
          "base_uri": "https://localhost:8080/"
        },
        "id": "HmSKKfKfT69A",
        "outputId": "105faf69-52a4-4cbd-cf7f-03cde3310651"
      },
      "execution_count": 14,
      "outputs": [
        {
          "output_type": "stream",
          "name": "stdout",
          "text": [
            "220.0\n",
            "440.0\n",
            "110.0\n"
          ]
        }
      ]
    },
    {
      "cell_type": "code",
      "source": [
        "work_hours = [('Abby', 100),('Sam', 200),('Terry',150)]"
      ],
      "metadata": {
        "id": "609px2VUUI_O"
      },
      "execution_count": 15,
      "outputs": []
    },
    {
      "cell_type": "code",
      "source": [
        "#Employee of the month\n",
        "#one who worked the most number of hours\n",
        "def emp_check(work_hours):\n",
        "  curr_max = 0\n",
        "  emp_of_the_month = ''\n",
        "  for emp,hours in work_hours:\n",
        "    if hours > curr_max:\n",
        "      curr_max = hours\n",
        "      emp_of_the_month = emp\n",
        "    else:\n",
        "      pass\n",
        "  return (emp_of_the_month, curr_max)"
      ],
      "metadata": {
        "id": "nBU19sUrUbQR"
      },
      "execution_count": 16,
      "outputs": []
    },
    {
      "cell_type": "code",
      "source": [
        "emp_check(work_hours)"
      ],
      "metadata": {
        "colab": {
          "base_uri": "https://localhost:8080/"
        },
        "id": "z1UOjD2uVKWD",
        "outputId": "3ad664cb-cb19-4c08-c0dd-68383f093f61"
      },
      "execution_count": 17,
      "outputs": [
        {
          "output_type": "execute_result",
          "data": {
            "text/plain": [
              "('Sam', 200)"
            ]
          },
          "metadata": {},
          "execution_count": 17
        }
      ]
    },
    {
      "cell_type": "markdown",
      "source": [
        "different way to accept return values"
      ],
      "metadata": {
        "id": "4D2nzTaHVoO1"
      }
    },
    {
      "cell_type": "code",
      "source": [
        "name,hours = emp_check(work_hours)"
      ],
      "metadata": {
        "id": "y3hBxGJ5Vq-U"
      },
      "execution_count": 18,
      "outputs": []
    },
    {
      "cell_type": "code",
      "source": [
        "print(f'The employee of the month is {name}!')\n",
        "print(f'{name} worked {hours} hours this month')"
      ],
      "metadata": {
        "colab": {
          "base_uri": "https://localhost:8080/"
        },
        "id": "C3hBF59TV7yo",
        "outputId": "5b45f474-bfd5-4a99-f4c8-e5e744e4d24d"
      },
      "execution_count": 21,
      "outputs": [
        {
          "output_type": "stream",
          "name": "stdout",
          "text": [
            "The employee of the month is Sam!\n",
            "Sam worked 200 hours this month\n"
          ]
        }
      ]
    }
  ]
}