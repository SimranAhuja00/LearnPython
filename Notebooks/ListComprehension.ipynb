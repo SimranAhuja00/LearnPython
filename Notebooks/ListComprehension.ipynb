{
  "nbformat": 4,
  "nbformat_minor": 0,
  "metadata": {
    "colab": {
      "provenance": [],
      "authorship_tag": "ABX9TyPGACRjUZUgFFdo6tEJSjCb"
    },
    "kernelspec": {
      "name": "python3",
      "display_name": "Python 3"
    },
    "language_info": {
      "name": "python"
    }
  },
  "cells": [
    {
      "cell_type": "code",
      "source": [
        "mystring = 'hello'"
      ],
      "metadata": {
        "id": "PHEjG2_84MuY"
      },
      "execution_count": 1,
      "outputs": []
    },
    {
      "cell_type": "code",
      "source": [
        "mylist = []\n",
        "\n",
        "for letter in mystring:\n",
        "  mylist.append(letter)"
      ],
      "metadata": {
        "id": "C5N1UXUO4Phz"
      },
      "execution_count": 2,
      "outputs": []
    },
    {
      "cell_type": "code",
      "source": [
        "mylist"
      ],
      "metadata": {
        "colab": {
          "base_uri": "https://localhost:8080/"
        },
        "id": "kPHv3OVd4VQV",
        "outputId": "be7cbcc8-bc2c-483a-cbfc-be3dfc8b5343"
      },
      "execution_count": 3,
      "outputs": [
        {
          "output_type": "execute_result",
          "data": {
            "text/plain": [
              "['h', 'e', 'l', 'l', 'o']"
            ]
          },
          "metadata": {},
          "execution_count": 3
        }
      ]
    },
    {
      "cell_type": "markdown",
      "source": [
        "Can use **List Comprehension** to do the same thing"
      ],
      "metadata": {
        "id": "3Egwdndp4gEk"
      }
    },
    {
      "cell_type": "code",
      "source": [
        "mylist = [letter for letter in mystring]"
      ],
      "metadata": {
        "id": "mN8fDc0r4mNE"
      },
      "execution_count": 4,
      "outputs": []
    },
    {
      "cell_type": "code",
      "source": [
        "mylist"
      ],
      "metadata": {
        "colab": {
          "base_uri": "https://localhost:8080/"
        },
        "id": "yqZS6p6M4ryE",
        "outputId": "cc2493af-f37a-4e33-d617-eb980bf87507"
      },
      "execution_count": 5,
      "outputs": [
        {
          "output_type": "execute_result",
          "data": {
            "text/plain": [
              "['h', 'e', 'l', 'l', 'o']"
            ]
          },
          "metadata": {},
          "execution_count": 5
        }
      ]
    },
    {
      "cell_type": "code",
      "source": [
        "list = [letter for letter in 'beautiful day']"
      ],
      "metadata": {
        "id": "IAXoxNMh4sbA"
      },
      "execution_count": 6,
      "outputs": []
    },
    {
      "cell_type": "code",
      "source": [
        "list"
      ],
      "metadata": {
        "colab": {
          "base_uri": "https://localhost:8080/"
        },
        "id": "UBoSrPb243IW",
        "outputId": "bf562aad-d0f6-4f53-b461-c995520883d9"
      },
      "execution_count": 7,
      "outputs": [
        {
          "output_type": "execute_result",
          "data": {
            "text/plain": [
              "['b', 'e', 'a', 'u', 't', 'i', 'f', 'u', 'l', ' ', 'd', 'a', 'y']"
            ]
          },
          "metadata": {},
          "execution_count": 7
        }
      ]
    },
    {
      "cell_type": "code",
      "source": [
        "num = [n for n in range(0,11)]"
      ],
      "metadata": {
        "id": "CJMssKz944Kh"
      },
      "execution_count": 8,
      "outputs": []
    },
    {
      "cell_type": "code",
      "source": [
        "num"
      ],
      "metadata": {
        "colab": {
          "base_uri": "https://localhost:8080/"
        },
        "id": "UU2SidV05KyZ",
        "outputId": "a5ed37e0-4590-42dd-a0a9-52efee26124f"
      },
      "execution_count": 9,
      "outputs": [
        {
          "output_type": "execute_result",
          "data": {
            "text/plain": [
              "[0, 1, 2, 3, 4, 5, 6, 7, 8, 9, 10]"
            ]
          },
          "metadata": {},
          "execution_count": 9
        }
      ]
    },
    {
      "cell_type": "code",
      "source": [
        "num = [n**2 for n in range(0,11)] #to display squares"
      ],
      "metadata": {
        "id": "UoFsdVAL5Lb1"
      },
      "execution_count": 10,
      "outputs": []
    },
    {
      "cell_type": "code",
      "source": [
        "num"
      ],
      "metadata": {
        "colab": {
          "base_uri": "https://localhost:8080/"
        },
        "id": "5Pglvsm75ST4",
        "outputId": "dc1ec59e-3520-4796-ffcb-62362353f4d0"
      },
      "execution_count": 11,
      "outputs": [
        {
          "output_type": "execute_result",
          "data": {
            "text/plain": [
              "[0, 1, 4, 9, 16, 25, 36, 49, 64, 81, 100]"
            ]
          },
          "metadata": {},
          "execution_count": 11
        }
      ]
    },
    {
      "cell_type": "markdown",
      "source": [
        "We can add 'if statments' to this for loop too"
      ],
      "metadata": {
        "id": "_WXYV0xn5cLA"
      }
    },
    {
      "cell_type": "code",
      "source": [
        "num = [n for n in range(0,11) if n%2 == 0]"
      ],
      "metadata": {
        "id": "8wj7NWnf5ek8"
      },
      "execution_count": 12,
      "outputs": []
    },
    {
      "cell_type": "code",
      "source": [
        "num"
      ],
      "metadata": {
        "colab": {
          "base_uri": "https://localhost:8080/"
        },
        "id": "ohrdtHxS5mg4",
        "outputId": "baa8d1c7-2bc9-4a38-bd32-8bb78ac1e868"
      },
      "execution_count": 13,
      "outputs": [
        {
          "output_type": "execute_result",
          "data": {
            "text/plain": [
              "[0, 2, 4, 6, 8, 10]"
            ]
          },
          "metadata": {},
          "execution_count": 13
        }
      ]
    },
    {
      "cell_type": "code",
      "source": [
        "num = [n for n in range(0,11) if n%2 != 0] #for odd numbers"
      ],
      "metadata": {
        "id": "aK7Ld0UX5m8G"
      },
      "execution_count": 14,
      "outputs": []
    },
    {
      "cell_type": "code",
      "source": [
        "num"
      ],
      "metadata": {
        "colab": {
          "base_uri": "https://localhost:8080/"
        },
        "id": "YjKEMjeJ5sVa",
        "outputId": "f63816a3-1edd-4765-e694-20001cbb321a"
      },
      "execution_count": 15,
      "outputs": [
        {
          "output_type": "execute_result",
          "data": {
            "text/plain": [
              "[1, 3, 5, 7, 9]"
            ]
          },
          "metadata": {},
          "execution_count": 15
        }
      ]
    },
    {
      "cell_type": "code",
      "source": [
        "#convert celcius to fahrenheit\n",
        "celcius = [0,10,20,34.5]\n",
        "farhenheit = [((9/5)*temp + 32) for temp in celcius]"
      ],
      "metadata": {
        "id": "2QvsRif05sxf"
      },
      "execution_count": 17,
      "outputs": []
    },
    {
      "cell_type": "code",
      "source": [
        "farhenheit"
      ],
      "metadata": {
        "colab": {
          "base_uri": "https://localhost:8080/"
        },
        "id": "qf-TrwCLEoT7",
        "outputId": "31d21d96-d170-406a-a16d-ca978f3495a9"
      },
      "execution_count": 18,
      "outputs": [
        {
          "output_type": "execute_result",
          "data": {
            "text/plain": [
              "[32.0, 50.0, 68.0, 94.1]"
            ]
          },
          "metadata": {},
          "execution_count": 18
        }
      ]
    },
    {
      "cell_type": "markdown",
      "source": [
        "Add *'if-else'* statments"
      ],
      "metadata": {
        "id": "F3JzprvYFFW4"
      }
    },
    {
      "cell_type": "code",
      "source": [
        "results = [x if x%2==0 else 'ODD' for x in range(0,11)]"
      ],
      "metadata": {
        "id": "6cLy_sR2FK-k"
      },
      "execution_count": 19,
      "outputs": []
    },
    {
      "cell_type": "code",
      "source": [
        "results"
      ],
      "metadata": {
        "colab": {
          "base_uri": "https://localhost:8080/"
        },
        "id": "hJhOy__LFa5u",
        "outputId": "849b7438-b7c2-419d-d51b-e7e0b2bf0187"
      },
      "execution_count": 20,
      "outputs": [
        {
          "output_type": "execute_result",
          "data": {
            "text/plain": [
              "[0, 'ODD', 2, 'ODD', 4, 'ODD', 6, 'ODD', 8, 'ODD', 10]"
            ]
          },
          "metadata": {},
          "execution_count": 20
        }
      ]
    },
    {
      "cell_type": "markdown",
      "source": [
        "*Nested loops* in List Comprehension"
      ],
      "metadata": {
        "id": "oDEp1tCiFiZ4"
      }
    },
    {
      "cell_type": "code",
      "source": [
        "mylist = []\n",
        "for x in [2,4,6]:\n",
        "  for y in [100,200,300]:\n",
        "    mylist.append(x*y)"
      ],
      "metadata": {
        "id": "-Z4DfGbpFl5l"
      },
      "execution_count": 21,
      "outputs": []
    },
    {
      "cell_type": "code",
      "source": [
        "mylist"
      ],
      "metadata": {
        "colab": {
          "base_uri": "https://localhost:8080/"
        },
        "id": "tEBtL4I7Fwmo",
        "outputId": "2906e7cf-618e-4db6-fea0-3b2c8e281b2e"
      },
      "execution_count": 22,
      "outputs": [
        {
          "output_type": "execute_result",
          "data": {
            "text/plain": [
              "[200, 400, 600, 400, 800, 1200, 600, 1200, 1800]"
            ]
          },
          "metadata": {},
          "execution_count": 22
        }
      ]
    },
    {
      "cell_type": "code",
      "source": [
        "mylist = [x*y for x in [2,4,6] for y in [100,200,300]]"
      ],
      "metadata": {
        "id": "WKARpO64FylO"
      },
      "execution_count": 23,
      "outputs": []
    },
    {
      "cell_type": "code",
      "source": [
        "mylist"
      ],
      "metadata": {
        "colab": {
          "base_uri": "https://localhost:8080/"
        },
        "id": "EbawztucF_IG",
        "outputId": "e6561708-353b-4b1f-d7d3-08601aa98a3c"
      },
      "execution_count": 24,
      "outputs": [
        {
          "output_type": "execute_result",
          "data": {
            "text/plain": [
              "[200, 400, 600, 400, 800, 1200, 600, 1200, 1800]"
            ]
          },
          "metadata": {},
          "execution_count": 24
        }
      ]
    }
  ]
}
