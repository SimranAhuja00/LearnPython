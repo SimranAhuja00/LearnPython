{
  "nbformat": 4,
  "nbformat_minor": 0,
  "metadata": {
    "colab": {
      "provenance": []
    },
    "kernelspec": {
      "name": "python3",
      "display_name": "Python 3"
    },
    "language_info": {
      "name": "python"
    }
  },
  "cells": [
    {
      "cell_type": "code",
      "source": [
        "def display(row1,row2,row3):\n",
        "  print(row1)\n",
        "  print(row2)\n",
        "  print(row3)"
      ],
      "metadata": {
        "id": "e0aB4h3x2Hd6"
      },
      "execution_count": 1,
      "outputs": []
    },
    {
      "cell_type": "code",
      "source": [
        "example_row = [1,2,3]\n",
        "display(example_row,example_row,example_row)"
      ],
      "metadata": {
        "colab": {
          "base_uri": "https://localhost:8080/"
        },
        "id": "tbPaTcMU2bQD",
        "outputId": "12628f08-a39b-47bd-ec7c-669815fc41ff"
      },
      "execution_count": 2,
      "outputs": [
        {
          "output_type": "stream",
          "name": "stdout",
          "text": [
            "[1, 2, 3]\n",
            "[1, 2, 3]\n",
            "[1, 2, 3]\n"
          ]
        }
      ]
    },
    {
      "cell_type": "code",
      "source": [
        "row1= [' ',' ',' ']\n",
        "row2= [' ',' ',' ']\n",
        "row3= [' ',' ',' ']\n",
        "display(row1,row2,row3)"
      ],
      "metadata": {
        "colab": {
          "base_uri": "https://localhost:8080/"
        },
        "id": "yojWb0dA2mLa",
        "outputId": "ebf08230-7d63-4ac1-d281-31271980a3c1"
      },
      "execution_count": 3,
      "outputs": [
        {
          "output_type": "stream",
          "name": "stdout",
          "text": [
            "[' ', ' ', ' ']\n",
            "[' ', ' ', ' ']\n",
            "[' ', ' ', ' ']\n"
          ]
        }
      ]
    },
    {
      "cell_type": "code",
      "source": [
        "row2[1]= 'X'"
      ],
      "metadata": {
        "id": "HTtodLX_27bx"
      },
      "execution_count": 4,
      "outputs": []
    },
    {
      "cell_type": "code",
      "source": [
        "display(row1,row2,row3)"
      ],
      "metadata": {
        "colab": {
          "base_uri": "https://localhost:8080/"
        },
        "id": "b_VS8pkq3Frw",
        "outputId": "d4ecbf2f-726c-4e92-95e5-c38b9e258dbb"
      },
      "execution_count": 5,
      "outputs": [
        {
          "output_type": "stream",
          "name": "stdout",
          "text": [
            "[' ', ' ', ' ']\n",
            "[' ', 'X', ' ']\n",
            "[' ', ' ', ' ']\n"
          ]
        }
      ]
    },
    {
      "cell_type": "code",
      "source": [
        "def user_choice():\n",
        "  #VARIABLES\n",
        "  #INITIAL\n",
        "  choice = 'WRONG'\n",
        "  acceptable_range = range(0,10)\n",
        "  within_range = False\n",
        "  #Two conditions to check\n",
        "  #Digit or within_range == False\n",
        "  while choice.isdigit() == False or within_range == False:\n",
        "    choice = input(\"Please enter a number (0-10): \")\n",
        "    #DIGIT CHECK\n",
        "    if choice.isdigit() == False:\n",
        "      print(\"Sorry that is not a digit!\")\n",
        "    #RANGE CHECK\n",
        "    if choice.isdigit() == True:\n",
        "      if int(choice) in acceptable_range:\n",
        "        within_range = True\n",
        "      else:\n",
        "        print(\"Sorry you are outside the acceptable range\")\n",
        "        within_range = False\n",
        "  return int(choice)"
      ],
      "metadata": {
        "id": "vwEU6tq_3KAI"
      },
      "execution_count": 14,
      "outputs": []
    },
    {
      "cell_type": "code",
      "source": [
        "user_choice()"
      ],
      "metadata": {
        "colab": {
          "base_uri": "https://localhost:8080/"
        },
        "id": "7shBhOkKybDC",
        "outputId": "624be6ff-8055-4a1d-93a8-696691352ff0"
      },
      "execution_count": 15,
      "outputs": [
        {
          "name": "stdout",
          "output_type": "stream",
          "text": [
            "Please enter a number (0-10): pp\n",
            "Sorry that is not a digit!\n",
            "Please enter a number (0-10): 78\n",
            "Sorry you are outside the acceptable range\n",
            "Please enter a number (0-10): 3\n"
          ]
        },
        {
          "output_type": "execute_result",
          "data": {
            "text/plain": [
              "3"
            ]
          },
          "metadata": {},
          "execution_count": 15
        }
      ]
    },
    {
      "cell_type": "code",
      "source": [],
      "metadata": {
        "id": "0HviTZo2y4Qe"
      },
      "execution_count": null,
      "outputs": []
    }
  ]
}