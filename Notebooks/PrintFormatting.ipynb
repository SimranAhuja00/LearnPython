{
  "nbformat": 4,
  "nbformat_minor": 0,
  "metadata": {
    "colab": {
      "provenance": [],
      "authorship_tag": "ABX9TyMCetDQ4FN+kw4oWNXFTre7"
    },
    "kernelspec": {
      "name": "python3",
      "display_name": "Python 3"
    },
    "language_info": {
      "name": "python"
    }
  },
  "cells": [
    {
      "cell_type": "markdown",
      "source": [
        "Formatting with the .format() method"
      ],
      "metadata": {
        "id": "zVhPIXrV7p6I"
      }
    },
    {
      "cell_type": "code",
      "source": [
        "print('This is a string {}'.format('INSERTED'))"
      ],
      "metadata": {
        "colab": {
          "base_uri": "https://localhost:8080/"
        },
        "id": "GdoUFL1G769T",
        "outputId": "c8374251-e3bc-4ad7-b2e6-a1439f3973cf"
      },
      "execution_count": 48,
      "outputs": [
        {
          "output_type": "stream",
          "name": "stdout",
          "text": [
            "This is a string INSERTED\n"
          ]
        }
      ]
    },
    {
      "cell_type": "code",
      "source": [
        "print('The {} {} {}'.format('day','is','good'))"
      ],
      "metadata": {
        "colab": {
          "base_uri": "https://localhost:8080/"
        },
        "id": "wsdQ37pK8e-k",
        "outputId": "65df1e78-ef3a-4aba-aa59-babaa5f64e62"
      },
      "execution_count": 49,
      "outputs": [
        {
          "output_type": "stream",
          "name": "stdout",
          "text": [
            "The day is good\n"
          ]
        }
      ]
    },
    {
      "cell_type": "code",
      "source": [
        "print('The {0} {0} {0}'.format('day','is','good')) #using indexing"
      ],
      "metadata": {
        "colab": {
          "base_uri": "https://localhost:8080/"
        },
        "id": "vSSNsBEC8oiJ",
        "outputId": "3ca21640-536e-4229-8fd4-34b6cf08bf16"
      },
      "execution_count": 52,
      "outputs": [
        {
          "output_type": "stream",
          "name": "stdout",
          "text": [
            "The day day day\n"
          ]
        }
      ]
    },
    {
      "cell_type": "code",
      "source": [
        "print('The {2} {0} {1}'.format('day','is','good'))"
      ],
      "metadata": {
        "colab": {
          "base_uri": "https://localhost:8080/"
        },
        "id": "gFfQth5s802t",
        "outputId": "8cb69d37-c183-4197-d5ff-6650b1641472"
      },
      "execution_count": 53,
      "outputs": [
        {
          "output_type": "stream",
          "name": "stdout",
          "text": [
            "The good day is\n"
          ]
        }
      ]
    },
    {
      "cell_type": "code",
      "source": [
        "print('The {d} {i} {g}'.format(d='day',i='is',g='good')) #using key values"
      ],
      "metadata": {
        "colab": {
          "base_uri": "https://localhost:8080/"
        },
        "id": "J3xo7QL184Wy",
        "outputId": "9d3ae666-cabf-4ddb-f6b8-7398c61de39f"
      },
      "execution_count": 58,
      "outputs": [
        {
          "output_type": "stream",
          "name": "stdout",
          "text": [
            "The day is good\n"
          ]
        }
      ]
    },
    {
      "cell_type": "code",
      "source": [
        "print('The {d} {d} {d}'.format(d='day',i='is',g='good'))"
      ],
      "metadata": {
        "colab": {
          "base_uri": "https://localhost:8080/"
        },
        "id": "pH-rrDhh9PgD",
        "outputId": "dd31f350-dd04-41d3-c544-bf364ee5f47b"
      },
      "execution_count": 59,
      "outputs": [
        {
          "output_type": "stream",
          "name": "stdout",
          "text": [
            "The day day day\n"
          ]
        }
      ]
    },
    {
      "cell_type": "markdown",
      "source": [
        "Float Formatting"
      ],
      "metadata": {
        "id": "IAJqYoF4-LcD"
      }
    },
    {
      "cell_type": "markdown",
      "source": [
        "Syntax is :- \"{value:width.precision *f*}\""
      ],
      "metadata": {
        "id": "d3amhDoc-NkB"
      }
    },
    {
      "cell_type": "code",
      "source": [
        "result = 200/77"
      ],
      "metadata": {
        "id": "CPYPwxxV-VSr"
      },
      "execution_count": 61,
      "outputs": []
    },
    {
      "cell_type": "code",
      "source": [
        "result"
      ],
      "metadata": {
        "colab": {
          "base_uri": "https://localhost:8080/"
        },
        "id": "qCD_t_4B-asP",
        "outputId": "4a01dc35-ad8b-40c3-9c69-5fef5962afbe"
      },
      "execution_count": 62,
      "outputs": [
        {
          "output_type": "execute_result",
          "data": {
            "text/plain": [
              "2.5974025974025974"
            ]
          },
          "metadata": {},
          "execution_count": 62
        }
      ]
    },
    {
      "cell_type": "code",
      "source": [
        "print(\"The result is {r}\".format(r=result))"
      ],
      "metadata": {
        "colab": {
          "base_uri": "https://localhost:8080/"
        },
        "id": "z58xJajw-cPi",
        "outputId": "551a9489-b8af-459e-efad-ceb73d32e9ab"
      },
      "execution_count": 64,
      "outputs": [
        {
          "output_type": "stream",
          "name": "stdout",
          "text": [
            "The result is 2.5974025974025974\n"
          ]
        }
      ]
    },
    {
      "cell_type": "code",
      "source": [
        "print(\"The result is {r:1.3f}\".format(r=result))"
      ],
      "metadata": {
        "colab": {
          "base_uri": "https://localhost:8080/"
        },
        "id": "cnwtxzwB-ivW",
        "outputId": "30b8d468-453a-484b-9121-26694dabec56"
      },
      "execution_count": 65,
      "outputs": [
        {
          "output_type": "stream",
          "name": "stdout",
          "text": [
            "The result is 2.597\n"
          ]
        }
      ]
    },
    {
      "cell_type": "code",
      "source": [
        "print(\"The result is {r:1.5f}\".format(r=result))"
      ],
      "metadata": {
        "colab": {
          "base_uri": "https://localhost:8080/"
        },
        "id": "4BdUTPwT-n9T",
        "outputId": "f8b1a9a6-6e3b-4d30-ea7e-8d89f6d58b9f"
      },
      "execution_count": 66,
      "outputs": [
        {
          "output_type": "stream",
          "name": "stdout",
          "text": [
            "The result is 2.59740\n"
          ]
        }
      ]
    },
    {
      "cell_type": "code",
      "source": [
        "print(\"The result is {r:10.3f}\".format(r=result))"
      ],
      "metadata": {
        "colab": {
          "base_uri": "https://localhost:8080/"
        },
        "id": "tOjIDatW-sEe",
        "outputId": "76ec996f-8fbc-4c1f-9e7c-ae502fd90218"
      },
      "execution_count": 67,
      "outputs": [
        {
          "output_type": "stream",
          "name": "stdout",
          "text": [
            "The result is      2.597\n"
          ]
        }
      ]
    },
    {
      "cell_type": "code",
      "source": [
        "res = 104.123"
      ],
      "metadata": {
        "id": "8hNyyEdf-479"
      },
      "execution_count": 69,
      "outputs": []
    },
    {
      "cell_type": "code",
      "source": [
        "print(\"The res is {r:1.3f}\".format(r=res))"
      ],
      "metadata": {
        "colab": {
          "base_uri": "https://localhost:8080/"
        },
        "id": "yaHBmgeU-9mZ",
        "outputId": "029fc627-f5df-4059-bb81-76866fc55592"
      },
      "execution_count": 70,
      "outputs": [
        {
          "output_type": "stream",
          "name": "stdout",
          "text": [
            "The res is 104.123\n"
          ]
        }
      ]
    },
    {
      "cell_type": "code",
      "source": [
        "print(\"The res is {r:1.2f}\".format(r=res))"
      ],
      "metadata": {
        "colab": {
          "base_uri": "https://localhost:8080/"
        },
        "id": "xbTr5Z8n_B4i",
        "outputId": "1c0fa226-a92b-48f6-aa50-6ba39cb931ea"
      },
      "execution_count": 71,
      "outputs": [
        {
          "output_type": "stream",
          "name": "stdout",
          "text": [
            "The res is 104.12\n"
          ]
        }
      ]
    },
    {
      "cell_type": "markdown",
      "source": [
        "**Printing string using .format()**"
      ],
      "metadata": {
        "id": "vEGZIxx3_Qqa"
      }
    },
    {
      "cell_type": "code",
      "source": [
        "name = \"Sofia\""
      ],
      "metadata": {
        "id": "S1cbEntl_Ukd"
      },
      "execution_count": 72,
      "outputs": []
    },
    {
      "cell_type": "code",
      "source": [
        "print(\"Hello, my name is {}\".format(name))"
      ],
      "metadata": {
        "colab": {
          "base_uri": "https://localhost:8080/"
        },
        "id": "bQf-y_Se_Wr4",
        "outputId": "8a526cb0-e486-4775-f3d4-053cb67e1a96"
      },
      "execution_count": 73,
      "outputs": [
        {
          "output_type": "stream",
          "name": "stdout",
          "text": [
            "Hello, my name is Sofia\n"
          ]
        }
      ]
    },
    {
      "cell_type": "markdown",
      "source": [
        "**Formatted String Literals (f-strings)**"
      ],
      "metadata": {
        "id": "gr2N8jur_ove"
      }
    },
    {
      "cell_type": "code",
      "source": [
        "print(f\"Hello, my name is {name}\")"
      ],
      "metadata": {
        "colab": {
          "base_uri": "https://localhost:8080/"
        },
        "id": "-nXRX9jE_cRL",
        "outputId": "7ee6a412-e5a6-41ab-9fd9-ab8add404be4"
      },
      "execution_count": 75,
      "outputs": [
        {
          "output_type": "stream",
          "name": "stdout",
          "text": [
            "Hello, my name is Sofia\n"
          ]
        }
      ]
    },
    {
      "cell_type": "code",
      "source": [
        "name = \"Shanaya\"\n",
        "age = 16"
      ],
      "metadata": {
        "id": "m75PqvrR_gpf"
      },
      "execution_count": 76,
      "outputs": []
    },
    {
      "cell_type": "code",
      "source": [
        "print(f'{name} is {age} years old')"
      ],
      "metadata": {
        "colab": {
          "base_uri": "https://localhost:8080/"
        },
        "id": "MSCCXYQbAD3L",
        "outputId": "0e3c1f5f-076f-414b-f340-dacc596fe98b"
      },
      "execution_count": 77,
      "outputs": [
        {
          "output_type": "stream",
          "name": "stdout",
          "text": [
            "Shanaya is 16 years old\n"
          ]
        }
      ]
    }
  ]
}
