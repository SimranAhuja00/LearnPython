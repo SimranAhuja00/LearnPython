{
  "nbformat": 4,
  "nbformat_minor": 0,
  "metadata": {
    "colab": {
      "provenance": [],
      "authorship_tag": "ABX9TyNV7QE/Ynz4IDUuH2CKKkoa"
    },
    "kernelspec": {
      "name": "python3",
      "display_name": "Python 3"
    },
    "language_info": {
      "name": "python"
    }
  },
  "cells": [
    {
      "cell_type": "code",
      "execution_count": 2,
      "metadata": {
        "id": "ASbDSrjRB3GJ"
      },
      "outputs": [],
      "source": [
        "my_list = [1,2,3]"
      ]
    },
    {
      "cell_type": "code",
      "source": [
        "list = ['STRING',100,23.2]"
      ],
      "metadata": {
        "id": "4BPDEe0sB5QX"
      },
      "execution_count": 7,
      "outputs": []
    },
    {
      "cell_type": "code",
      "source": [
        "len(my_list)"
      ],
      "metadata": {
        "colab": {
          "base_uri": "https://localhost:8080/"
        },
        "id": "X6F0h1N8CMy7",
        "outputId": "0d69448a-e677-4766-850a-cf18ee7825be"
      },
      "execution_count": 8,
      "outputs": [
        {
          "output_type": "execute_result",
          "data": {
            "text/plain": [
              "3"
            ]
          },
          "metadata": {},
          "execution_count": 8
        }
      ]
    },
    {
      "cell_type": "code",
      "source": [
        "my_list[0]"
      ],
      "metadata": {
        "colab": {
          "base_uri": "https://localhost:8080/"
        },
        "id": "we2yD6mzCY12",
        "outputId": "d1144337-3b1a-42b7-bbc5-f630e24dcb30"
      },
      "execution_count": 9,
      "outputs": [
        {
          "output_type": "execute_result",
          "data": {
            "text/plain": [
              "1"
            ]
          },
          "metadata": {},
          "execution_count": 9
        }
      ]
    },
    {
      "cell_type": "code",
      "source": [
        "list[0]"
      ],
      "metadata": {
        "colab": {
          "base_uri": "https://localhost:8080/",
          "height": 35
        },
        "id": "PpiG_oGvCiuY",
        "outputId": "cf588206-ae0d-4847-dd4e-2a0f06f6dbc1"
      },
      "execution_count": 10,
      "outputs": [
        {
          "output_type": "execute_result",
          "data": {
            "text/plain": [
              "'STRING'"
            ],
            "application/vnd.google.colaboratory.intrinsic+json": {
              "type": "string"
            }
          },
          "metadata": {},
          "execution_count": 10
        }
      ]
    },
    {
      "cell_type": "code",
      "source": [
        "numbers = ['one','two','three','four']"
      ],
      "metadata": {
        "id": "IwkHk2K5Cn-b"
      },
      "execution_count": 11,
      "outputs": []
    },
    {
      "cell_type": "markdown",
      "source": [
        "Can use String slicing functions with lists too"
      ],
      "metadata": {
        "id": "VGRqD35VCz_i"
      }
    },
    {
      "cell_type": "code",
      "source": [
        "numbers[1:]"
      ],
      "metadata": {
        "colab": {
          "base_uri": "https://localhost:8080/"
        },
        "id": "XSanZweDCv7c",
        "outputId": "1abd4af0-040d-4fc1-9e05-16916e7ee2c9"
      },
      "execution_count": 12,
      "outputs": [
        {
          "output_type": "execute_result",
          "data": {
            "text/plain": [
              "['two', 'three', 'four']"
            ]
          },
          "metadata": {},
          "execution_count": 12
        }
      ]
    },
    {
      "cell_type": "code",
      "source": [
        "more_numbers = ['five','six','seven']"
      ],
      "metadata": {
        "id": "Gx6PeycuCyc-"
      },
      "execution_count": 13,
      "outputs": []
    },
    {
      "cell_type": "markdown",
      "source": [
        "Concatenate the two lists"
      ],
      "metadata": {
        "id": "ke2Da79dDEk2"
      }
    },
    {
      "cell_type": "code",
      "source": [
        "numbers + more_numbers"
      ],
      "metadata": {
        "colab": {
          "base_uri": "https://localhost:8080/"
        },
        "id": "lDP5CP9aC__6",
        "outputId": "84044f91-c1f0-4d70-a969-2289d41521d5"
      },
      "execution_count": 14,
      "outputs": [
        {
          "output_type": "execute_result",
          "data": {
            "text/plain": [
              "['one', 'two', 'three', 'four', 'five', 'six', 'seven']"
            ]
          },
          "metadata": {},
          "execution_count": 14
        }
      ]
    },
    {
      "cell_type": "markdown",
      "source": [
        "Lists can be mutated, unlike strings"
      ],
      "metadata": {
        "id": "Z4v1o2kIDKcP"
      }
    },
    {
      "cell_type": "code",
      "source": [
        "new_list = numbers + more_numbers"
      ],
      "metadata": {
        "id": "5jk7PpnnDNbb"
      },
      "execution_count": 15,
      "outputs": []
    },
    {
      "cell_type": "code",
      "source": [
        "new_list"
      ],
      "metadata": {
        "colab": {
          "base_uri": "https://localhost:8080/"
        },
        "id": "ZhT4u_qHDUEd",
        "outputId": "6e6ab74a-3fa9-450f-c59b-8e60a94767ea"
      },
      "execution_count": 16,
      "outputs": [
        {
          "output_type": "execute_result",
          "data": {
            "text/plain": [
              "['one', 'two', 'three', 'four', 'five', 'six', 'seven']"
            ]
          },
          "metadata": {},
          "execution_count": 16
        }
      ]
    },
    {
      "cell_type": "code",
      "source": [
        "new_list[0] = '1'"
      ],
      "metadata": {
        "id": "rNXCILjJDWqI"
      },
      "execution_count": 17,
      "outputs": []
    },
    {
      "cell_type": "code",
      "source": [
        "new_list"
      ],
      "metadata": {
        "colab": {
          "base_uri": "https://localhost:8080/"
        },
        "id": "G76DYSS0DcPD",
        "outputId": "7f01c2d1-823b-4c0f-a809-17b948ceefdb"
      },
      "execution_count": 18,
      "outputs": [
        {
          "output_type": "execute_result",
          "data": {
            "text/plain": [
              "['1', 'two', 'three', 'four', 'five', 'six', 'seven']"
            ]
          },
          "metadata": {},
          "execution_count": 18
        }
      ]
    },
    {
      "cell_type": "markdown",
      "source": [
        "Add elements to the end of the list, using .append()"
      ],
      "metadata": {
        "id": "Me68BlcUDkvI"
      }
    },
    {
      "cell_type": "code",
      "source": [
        "new_list.append('eight')"
      ],
      "metadata": {
        "id": "JboP9FFuDn0-"
      },
      "execution_count": 19,
      "outputs": []
    },
    {
      "cell_type": "code",
      "source": [
        "new_list"
      ],
      "metadata": {
        "colab": {
          "base_uri": "https://localhost:8080/"
        },
        "id": "DX73fMhCDrMG",
        "outputId": "91d75d7c-68a2-4a42-ba70-1d162fcfb27c"
      },
      "execution_count": 20,
      "outputs": [
        {
          "output_type": "execute_result",
          "data": {
            "text/plain": [
              "['1', 'two', 'three', 'four', 'five', 'six', 'seven', 'eight']"
            ]
          },
          "metadata": {},
          "execution_count": 20
        }
      ]
    },
    {
      "cell_type": "markdown",
      "source": [
        "To pop(remove) an item from the end of a list, we can use .pop(), it also returns the popped element"
      ],
      "metadata": {
        "id": "doNSbtV-D3lB"
      }
    },
    {
      "cell_type": "code",
      "source": [
        "new_list.pop()"
      ],
      "metadata": {
        "colab": {
          "base_uri": "https://localhost:8080/",
          "height": 35
        },
        "id": "Mt6-Mv9yD8HS",
        "outputId": "7a0a658a-919c-4f0c-f69c-64881238a501"
      },
      "execution_count": 21,
      "outputs": [
        {
          "output_type": "execute_result",
          "data": {
            "text/plain": [
              "'eight'"
            ],
            "application/vnd.google.colaboratory.intrinsic+json": {
              "type": "string"
            }
          },
          "metadata": {},
          "execution_count": 21
        }
      ]
    },
    {
      "cell_type": "code",
      "source": [
        "new_list"
      ],
      "metadata": {
        "colab": {
          "base_uri": "https://localhost:8080/"
        },
        "id": "YI_68Z5vD-Yn",
        "outputId": "c5ecafc8-c2d3-4373-e802-8c00701301c2"
      },
      "execution_count": 22,
      "outputs": [
        {
          "output_type": "execute_result",
          "data": {
            "text/plain": [
              "['1', 'two', 'three', 'four', 'five', 'six', 'seven']"
            ]
          },
          "metadata": {},
          "execution_count": 22
        }
      ]
    },
    {
      "cell_type": "markdown",
      "source": [
        "To remove an element from a specific index, we can use .pop('*index*')"
      ],
      "metadata": {
        "id": "XmcG7KJGESAY"
      }
    },
    {
      "cell_type": "code",
      "source": [
        "new_list.pop(0)"
      ],
      "metadata": {
        "colab": {
          "base_uri": "https://localhost:8080/",
          "height": 35
        },
        "id": "FAU-MgtvEZ3G",
        "outputId": "ec9edbc8-4086-4e09-dc63-69ad04f04868"
      },
      "execution_count": 23,
      "outputs": [
        {
          "output_type": "execute_result",
          "data": {
            "text/plain": [
              "'1'"
            ],
            "application/vnd.google.colaboratory.intrinsic+json": {
              "type": "string"
            }
          },
          "metadata": {},
          "execution_count": 23
        }
      ]
    },
    {
      "cell_type": "markdown",
      "source": [
        "Sorting of the lists"
      ],
      "metadata": {
        "id": "W8w7e1_MFGPj"
      }
    },
    {
      "cell_type": "code",
      "source": [
        "new_list = ['a','e','x','b','c']\n",
        "num_list = [4,1,8,3]"
      ],
      "metadata": {
        "id": "GkQa1gFZEvsu"
      },
      "execution_count": 25,
      "outputs": []
    },
    {
      "cell_type": "code",
      "source": [
        "new_list.sort()"
      ],
      "metadata": {
        "id": "OlT5mfNKE6dZ"
      },
      "execution_count": 26,
      "outputs": []
    },
    {
      "cell_type": "code",
      "source": [
        "new_list"
      ],
      "metadata": {
        "colab": {
          "base_uri": "https://localhost:8080/"
        },
        "id": "g1dIuEikFCze",
        "outputId": "e90bec2f-3263-446b-f21a-250cd609d044"
      },
      "execution_count": 27,
      "outputs": [
        {
          "output_type": "execute_result",
          "data": {
            "text/plain": [
              "['a', 'b', 'c', 'e', 'x']"
            ]
          },
          "metadata": {},
          "execution_count": 27
        }
      ]
    },
    {
      "cell_type": "code",
      "source": [
        "num_list.sort()"
      ],
      "metadata": {
        "id": "37uD0Z2pFEUP"
      },
      "execution_count": 28,
      "outputs": []
    },
    {
      "cell_type": "code",
      "source": [
        "num_list"
      ],
      "metadata": {
        "colab": {
          "base_uri": "https://localhost:8080/"
        },
        "id": "SSA914k9FLAc",
        "outputId": "9c648e1a-8603-4125-8fe1-7fb84c941750"
      },
      "execution_count": 29,
      "outputs": [
        {
          "output_type": "execute_result",
          "data": {
            "text/plain": [
              "[1, 3, 4, 8]"
            ]
          },
          "metadata": {},
          "execution_count": 29
        }
      ]
    },
    {
      "cell_type": "code",
      "source": [
        "num_list.reverse()"
      ],
      "metadata": {
        "id": "ndzBuXumFMIb"
      },
      "execution_count": 30,
      "outputs": []
    },
    {
      "cell_type": "code",
      "source": [
        "num_list"
      ],
      "metadata": {
        "colab": {
          "base_uri": "https://localhost:8080/"
        },
        "id": "6Uzgt8tyFiQW",
        "outputId": "620ca4e9-dd5f-4de2-a372-824cde924a49"
      },
      "execution_count": 31,
      "outputs": [
        {
          "output_type": "execute_result",
          "data": {
            "text/plain": [
              "[8, 4, 3, 1]"
            ]
          },
          "metadata": {},
          "execution_count": 31
        }
      ]
    }
  ]
}
